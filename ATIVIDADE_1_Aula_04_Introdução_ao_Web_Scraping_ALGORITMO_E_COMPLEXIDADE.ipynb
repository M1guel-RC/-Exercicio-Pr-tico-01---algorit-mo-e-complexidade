{
  "nbformat": 4,
  "nbformat_minor": 0,
  "metadata": {
    "colab": {
      "provenance": [],
      "include_colab_link": true
    },
    "kernelspec": {
      "name": "python3",
      "display_name": "Python 3"
    },
    "language_info": {
      "name": "python"
    }
  },
  "cells": [
    {
      "cell_type": "markdown",
      "metadata": {
        "id": "view-in-github",
        "colab_type": "text"
      },
      "source": [
        "<a href=\"https://colab.research.google.com/github/M1guel-RC/-Exercicio-Pr-tico-01---algorit-mo-e-complexidade/blob/main/ATIVIDADE_1_Aula_04_Introdu%C3%A7%C3%A3o_ao_Web_Scraping_ALGORITMO_E_COMPLEXIDADE.ipynb\" target=\"_parent\"><img src=\"https://colab.research.google.com/assets/colab-badge.svg\" alt=\"Open In Colab\"/></a>"
      ]
    },
    {
      "cell_type": "markdown",
      "source": [
        "#Aula 04: Introdução ao Web Scraping"
      ],
      "metadata": {
        "id": "RX_2J_ZnhwBV"
      }
    },
    {
      "cell_type": "markdown",
      "source": [
        "##Introdução ao Web Scraping com BeautifulSoup"
      ],
      "metadata": {
        "id": "3wUJ3Cxkhzrk"
      }
    },
    {
      "cell_type": "code",
      "execution_count": null,
      "metadata": {
        "colab": {
          "base_uri": "https://localhost:8080/"
        },
        "id": "qhScvtdmg8GE",
        "outputId": "e4e95298-7e72-42b6-870e-9eda7a958f02"
      },
      "outputs": [
        {
          "output_type": "stream",
          "name": "stdout",
          "text": [
            "Requirement already satisfied: requests in /usr/local/lib/python3.12/dist-packages (2.32.4)\n",
            "Requirement already satisfied: beautifulsoup4 in /usr/local/lib/python3.12/dist-packages (4.13.5)\n",
            "Requirement already satisfied: charset_normalizer<4,>=2 in /usr/local/lib/python3.12/dist-packages (from requests) (3.4.3)\n",
            "Requirement already satisfied: idna<4,>=2.5 in /usr/local/lib/python3.12/dist-packages (from requests) (3.10)\n",
            "Requirement already satisfied: urllib3<3,>=1.21.1 in /usr/local/lib/python3.12/dist-packages (from requests) (2.5.0)\n",
            "Requirement already satisfied: certifi>=2017.4.17 in /usr/local/lib/python3.12/dist-packages (from requests) (2025.8.3)\n",
            "Requirement already satisfied: soupsieve>1.2 in /usr/local/lib/python3.12/dist-packages (from beautifulsoup4) (2.8)\n",
            "Requirement already satisfied: typing-extensions>=4.0.0 in /usr/local/lib/python3.12/dist-packages (from beautifulsoup4) (4.15.0)\n"
          ]
        }
      ],
      "source": [
        "# Instalação\n",
        "!pip install requests beautifulsoup4"
      ]
    },
    {
      "cell_type": "markdown",
      "source": [
        "### Estrutura Básica do BeautifulSoup"
      ],
      "metadata": {
        "id": "akd3AidUh-x6"
      }
    },
    {
      "cell_type": "code",
      "source": [
        "from bs4 import BeautifulSoup\n",
        "\n",
        "html = \"\"\"\n",
        "<html>\n",
        "  <body>\n",
        "    <h1>Título</h1>\n",
        "    <p class=\"texto\">Primeiro parágrafo</p>\n",
        "    <p class=\"texto\">Segundo parágrafo</p>\n",
        "  </body>\n",
        "</html>\n",
        "\"\"\"\n",
        "\n",
        "sopa = BeautifulSoup(html, \"html.parser\")\n",
        "\n",
        "# Pegando o título\n",
        "print(sopa.h1.text)\n",
        "\n",
        "# Pegando todos os parágrafos\n",
        "for p in sopa.find_all(\"p\", class_=\"texto\"):\n",
        "    print(p.text)"
      ],
      "metadata": {
        "colab": {
          "base_uri": "https://localhost:8080/"
        },
        "id": "hsq_FYNziASQ",
        "outputId": "bd672dfa-8c70-488b-dbad-9d14afeb1d16"
      },
      "execution_count": null,
      "outputs": [
        {
          "output_type": "stream",
          "name": "stdout",
          "text": [
            "Título\n",
            "Primeiro parágrafo\n",
            "Segundo parágrafo\n"
          ]
        }
      ]
    },
    {
      "cell_type": "markdown",
      "source": [
        "### Usando com páginas web reais"
      ],
      "metadata": {
        "id": "DO5CLu7OiFRy"
      }
    },
    {
      "cell_type": "code",
      "source": [
        "import requests\n",
        "from bs4 import BeautifulSoup\n",
        "\n",
        "url = \"https://quotes.toscrape.com/\"\n",
        "resposta = requests.get(url)\n",
        "\n",
        "# Criar o objeto BeautifulSoup\n",
        "sopa = BeautifulSoup(resposta.text, \"html.parser\")\n",
        "\n",
        "# Extrair citações\n",
        "citacoes = sopa.find_all(\"span\", class_=\"text\")\n",
        "autores = sopa.find_all(\"small\", class_=\"author\")\n",
        "\n",
        "for c, a in zip(citacoes, autores):\n",
        "    print(f\"{c.text} — {a.text}\")"
      ],
      "metadata": {
        "colab": {
          "base_uri": "https://localhost:8080/"
        },
        "id": "AywbJ3wTiCIk",
        "outputId": "d8d6f971-f3b1-4e24-d064-a7c52f64a955"
      },
      "execution_count": null,
      "outputs": [
        {
          "output_type": "stream",
          "name": "stdout",
          "text": [
            "“The world as we have created it is a process of our thinking. It cannot be changed without changing our thinking.” — Albert Einstein\n",
            "“It is our choices, Harry, that show what we truly are, far more than our abilities.” — J.K. Rowling\n",
            "“There are only two ways to live your life. One is as though nothing is a miracle. The other is as though everything is a miracle.” — Albert Einstein\n",
            "“The person, be it gentleman or lady, who has not pleasure in a good novel, must be intolerably stupid.” — Jane Austen\n",
            "“Imperfection is beauty, madness is genius and it's better to be absolutely ridiculous than absolutely boring.” — Marilyn Monroe\n",
            "“Try not to become a man of success. Rather become a man of value.” — Albert Einstein\n",
            "“It is better to be hated for what you are than to be loved for what you are not.” — André Gide\n",
            "“I have not failed. I've just found 10,000 ways that won't work.” — Thomas A. Edison\n",
            "“A woman is like a tea bag; you never know how strong it is until it's in hot water.” — Eleanor Roosevelt\n",
            "“A day without sunshine is like, you know, night.” — Steve Martin\n"
          ]
        }
      ]
    },
    {
      "cell_type": "code",
      "source": [],
      "metadata": {
        "id": "1rzeYvEDiI0C"
      },
      "execution_count": null,
      "outputs": []
    },
    {
      "cell_type": "markdown",
      "source": [
        "ATIVIDADE 1\n"
      ],
      "metadata": {
        "id": "XzDaO9A8vyq7"
      }
    },
    {
      "cell_type": "code",
      "source": [
        "import requests\n",
        "from bs4 import BeautifulSoup\n",
        "\n",
        "url = \"https://books.toscrape.com/catalogue/category/books/fantasy_19/index.html\"\n",
        "resposta = requests.get(url)\n",
        "\n",
        "# Criar o objeto BeautifulSoup\n",
        "sopa = BeautifulSoup(resposta.text, \"html.parser\")\n",
        "\n",
        "# Extrair títulos dos livros\n",
        "livros = sopa.find_all(\"h3\")\n",
        "\n",
        "for livro in livros:\n",
        "    # Extract the full title from the 'title' attribute of the 'a' tag\n",
        "    link = livro.find(\"a\")\n",
        "    if link and \"title\" in link.attrs:\n",
        "        print(link[\"title\"])\n",
        "    else:\n",
        "        print(livro.text.strip()) # Fallback to the text if title attribute is not found"
      ],
      "metadata": {
        "colab": {
          "base_uri": "https://localhost:8080/"
        },
        "id": "5IVYxvYCv2MI",
        "outputId": "f959b744-9f29-4b8c-a15f-b3f4f831d9c8"
      },
      "execution_count": null,
      "outputs": [
        {
          "output_type": "stream",
          "name": "stdout",
          "text": [
            "Unicorn Tracks\n",
            "Saga, Volume 6 (Saga (Collected Editions) #6)\n",
            "Princess Between Worlds (Wide-Awake Princess #5)\n",
            "Masks and Shadows\n",
            "Crown of Midnight (Throne of Glass #2)\n",
            "Avatar: The Last Airbender: Smoke and Shadow, Part 3 (Smoke and Shadow #3)\n",
            "A Court of Thorns and Roses (A Court of Thorns and Roses #1)\n",
            "Throne of Glass (Throne of Glass #1)\n",
            "The Glittering Court (The Glittering Court #1)\n",
            "Hollow City (Miss Peregrineâs Peculiar Children #2)\n",
            "The Star-Touched Queen\n",
            "The Hidden Oracle (The Trials of Apollo #1)\n",
            "The Bane Chronicles (The Bane Chronicles #1-11)\n",
            "Island of Dragons (Unwanteds #7)\n",
            "Demigods & Magicians: Percy and Annabeth Meet the Kanes (Percy Jackson & Kane Chronicles Crossover #1-3)\n",
            "City of Glass (The Mortal Instruments #3)\n",
            "Searching for Meaning in Gailana\n",
            "The Star-Touched Queen\n",
            "A Shard of Ice (The Black Symphony Saga #1)\n",
            "King's Folly (The Kinsman Chronicles #1)\n"
          ]
        }
      ]
    },
    {
      "cell_type": "code",
      "source": [
        "import requests\n",
        "from bs4 import BeautifulSoup\n",
        "import pandas as pd\n",
        "\n",
        "# URL da página de livros de fantasia\n",
        "url = \"https://books.toscrape.com/catalogue/category/books/fantasy_19/index.html\"\n",
        "resposta = requests.get(url)\n",
        "\n",
        "# Criar o objeto BeautifulSoup para fazer o parsing do HTML\n",
        "sopa = BeautifulSoup(resposta.text, \"html.parser\")\n",
        "\n",
        "# Encontrar todos os livros na página\n",
        "artigos = sopa.find_all(\"article\", class_=\"product_pod\")\n",
        "\n",
        "# Lista para armazenar os dados dos livros\n",
        "dados_livros = []\n",
        "for livro in artigos:\n",
        "    titulo = livro.find(\"h3\").find(\"a\")[\"title\"]\n",
        "    preco = livro.find(\"p\", class_=\"price_color\").text.strip()\n",
        "    categoria = sopa.find(\"ul\", class_=\"breadcrumb\").find_all(\"li\")[2].text.strip()\n",
        "    elemento_estoque = livro.find(\"p\", class_=\"instock availability\")\n",
        "    estoque = elemento_estoque.text.strip() if elemento_estoque else \"N/A\"  # Extrai o texto ou define como N/A se não encontrado\n",
        "\n",
        "    # Adiciona os dados do livro à lista\n",
        "    dados_livros.append({\n",
        "        \"Título\": titulo,\n",
        "        \"Preço\": preco,\n",
        "        \"Categoria\": categoria,\n",
        "        \"Disponibilidade\": estoque\n",
        "    })\n",
        "\n",
        "# Criar um DataFrame com os dados e salvar em um arquivo CSV\n",
        "df = pd.DataFrame(dados_livros)\n",
        "df.to_csv(\"livros_fantasia_com_detalhes.csv\", index=False)\n",
        "\n",
        "print(\"Detalhes dos livros salvos em livros_fantasia_com_detalhes.csv\")\n"
      ],
      "metadata": {
        "colab": {
          "base_uri": "https://localhost:8080/"
        },
        "id": "9L2hA1sWx33W",
        "outputId": "d27fab93-cfae-4aca-ea23-06fe23f5abd9"
      },
      "execution_count": null,
      "outputs": [
        {
          "output_type": "stream",
          "name": "stdout",
          "text": [
            "Detalhes dos livros salvos em livros_fantasia_com_detalhes.csv\n"
          ]
        }
      ]
    },
    {
      "cell_type": "code",
      "source": [
        "df = pd.read_csv(\"/content/livros_fantasia_com_detalhes.csv\")\n",
        "df.head()"
      ],
      "metadata": {
        "colab": {
          "base_uri": "https://localhost:8080/",
          "height": 206
        },
        "id": "aqr5G5tqyAA2",
        "outputId": "90882cc1-e611-4a01-fd50-0f1467163bee"
      },
      "execution_count": null,
      "outputs": [
        {
          "output_type": "execute_result",
          "data": {
            "text/plain": [
              "                                             Título    Preço Categoria  \\\n",
              "0                                    Unicorn Tracks  Â£18.78   Fantasy   \n",
              "1     Saga, Volume 6 (Saga (Collected Editions) #6)  Â£25.02   Fantasy   \n",
              "2  Princess Between Worlds (Wide-Awake Princess #5)  Â£13.34   Fantasy   \n",
              "3                                 Masks and Shadows  Â£56.40   Fantasy   \n",
              "4            Crown of Midnight (Throne of Glass #2)  Â£43.29   Fantasy   \n",
              "\n",
              "  Disponibilidade  \n",
              "0        In stock  \n",
              "1        In stock  \n",
              "2        In stock  \n",
              "3        In stock  \n",
              "4        In stock  "
            ],
            "text/html": [
              "\n",
              "  <div id=\"df-78647308-3d90-4bf5-87e7-5c6e8f4b5d23\" class=\"colab-df-container\">\n",
              "    <div>\n",
              "<style scoped>\n",
              "    .dataframe tbody tr th:only-of-type {\n",
              "        vertical-align: middle;\n",
              "    }\n",
              "\n",
              "    .dataframe tbody tr th {\n",
              "        vertical-align: top;\n",
              "    }\n",
              "\n",
              "    .dataframe thead th {\n",
              "        text-align: right;\n",
              "    }\n",
              "</style>\n",
              "<table border=\"1\" class=\"dataframe\">\n",
              "  <thead>\n",
              "    <tr style=\"text-align: right;\">\n",
              "      <th></th>\n",
              "      <th>Título</th>\n",
              "      <th>Preço</th>\n",
              "      <th>Categoria</th>\n",
              "      <th>Disponibilidade</th>\n",
              "    </tr>\n",
              "  </thead>\n",
              "  <tbody>\n",
              "    <tr>\n",
              "      <th>0</th>\n",
              "      <td>Unicorn Tracks</td>\n",
              "      <td>Â£18.78</td>\n",
              "      <td>Fantasy</td>\n",
              "      <td>In stock</td>\n",
              "    </tr>\n",
              "    <tr>\n",
              "      <th>1</th>\n",
              "      <td>Saga, Volume 6 (Saga (Collected Editions) #6)</td>\n",
              "      <td>Â£25.02</td>\n",
              "      <td>Fantasy</td>\n",
              "      <td>In stock</td>\n",
              "    </tr>\n",
              "    <tr>\n",
              "      <th>2</th>\n",
              "      <td>Princess Between Worlds (Wide-Awake Princess #5)</td>\n",
              "      <td>Â£13.34</td>\n",
              "      <td>Fantasy</td>\n",
              "      <td>In stock</td>\n",
              "    </tr>\n",
              "    <tr>\n",
              "      <th>3</th>\n",
              "      <td>Masks and Shadows</td>\n",
              "      <td>Â£56.40</td>\n",
              "      <td>Fantasy</td>\n",
              "      <td>In stock</td>\n",
              "    </tr>\n",
              "    <tr>\n",
              "      <th>4</th>\n",
              "      <td>Crown of Midnight (Throne of Glass #2)</td>\n",
              "      <td>Â£43.29</td>\n",
              "      <td>Fantasy</td>\n",
              "      <td>In stock</td>\n",
              "    </tr>\n",
              "  </tbody>\n",
              "</table>\n",
              "</div>\n",
              "    <div class=\"colab-df-buttons\">\n",
              "\n",
              "  <div class=\"colab-df-container\">\n",
              "    <button class=\"colab-df-convert\" onclick=\"convertToInteractive('df-78647308-3d90-4bf5-87e7-5c6e8f4b5d23')\"\n",
              "            title=\"Convert this dataframe to an interactive table.\"\n",
              "            style=\"display:none;\">\n",
              "\n",
              "  <svg xmlns=\"http://www.w3.org/2000/svg\" height=\"24px\" viewBox=\"0 -960 960 960\">\n",
              "    <path d=\"M120-120v-720h720v720H120Zm60-500h600v-160H180v160Zm220 220h160v-160H400v160Zm0 220h160v-160H400v160ZM180-400h160v-160H180v160Zm440 0h160v-160H620v160ZM180-180h160v-160H180v160Zm440 0h160v-160H620v160Z\"/>\n",
              "  </svg>\n",
              "    </button>\n",
              "\n",
              "  <style>\n",
              "    .colab-df-container {\n",
              "      display:flex;\n",
              "      gap: 12px;\n",
              "    }\n",
              "\n",
              "    .colab-df-convert {\n",
              "      background-color: #E8F0FE;\n",
              "      border: none;\n",
              "      border-radius: 50%;\n",
              "      cursor: pointer;\n",
              "      display: none;\n",
              "      fill: #1967D2;\n",
              "      height: 32px;\n",
              "      padding: 0 0 0 0;\n",
              "      width: 32px;\n",
              "    }\n",
              "\n",
              "    .colab-df-convert:hover {\n",
              "      background-color: #E2EBFA;\n",
              "      box-shadow: 0px 1px 2px rgba(60, 64, 67, 0.3), 0px 1px 3px 1px rgba(60, 64, 67, 0.15);\n",
              "      fill: #174EA6;\n",
              "    }\n",
              "\n",
              "    .colab-df-buttons div {\n",
              "      margin-bottom: 4px;\n",
              "    }\n",
              "\n",
              "    [theme=dark] .colab-df-convert {\n",
              "      background-color: #3B4455;\n",
              "      fill: #D2E3FC;\n",
              "    }\n",
              "\n",
              "    [theme=dark] .colab-df-convert:hover {\n",
              "      background-color: #434B5C;\n",
              "      box-shadow: 0px 1px 3px 1px rgba(0, 0, 0, 0.15);\n",
              "      filter: drop-shadow(0px 1px 2px rgba(0, 0, 0, 0.3));\n",
              "      fill: #FFFFFF;\n",
              "    }\n",
              "  </style>\n",
              "\n",
              "    <script>\n",
              "      const buttonEl =\n",
              "        document.querySelector('#df-78647308-3d90-4bf5-87e7-5c6e8f4b5d23 button.colab-df-convert');\n",
              "      buttonEl.style.display =\n",
              "        google.colab.kernel.accessAllowed ? 'block' : 'none';\n",
              "\n",
              "      async function convertToInteractive(key) {\n",
              "        const element = document.querySelector('#df-78647308-3d90-4bf5-87e7-5c6e8f4b5d23');\n",
              "        const dataTable =\n",
              "          await google.colab.kernel.invokeFunction('convertToInteractive',\n",
              "                                                    [key], {});\n",
              "        if (!dataTable) return;\n",
              "\n",
              "        const docLinkHtml = 'Like what you see? Visit the ' +\n",
              "          '<a target=\"_blank\" href=https://colab.research.google.com/notebooks/data_table.ipynb>data table notebook</a>'\n",
              "          + ' to learn more about interactive tables.';\n",
              "        element.innerHTML = '';\n",
              "        dataTable['output_type'] = 'display_data';\n",
              "        await google.colab.output.renderOutput(dataTable, element);\n",
              "        const docLink = document.createElement('div');\n",
              "        docLink.innerHTML = docLinkHtml;\n",
              "        element.appendChild(docLink);\n",
              "      }\n",
              "    </script>\n",
              "  </div>\n",
              "\n",
              "\n",
              "    <div id=\"df-90e53716-b416-44e2-803f-8306ae94af92\">\n",
              "      <button class=\"colab-df-quickchart\" onclick=\"quickchart('df-90e53716-b416-44e2-803f-8306ae94af92')\"\n",
              "                title=\"Suggest charts\"\n",
              "                style=\"display:none;\">\n",
              "\n",
              "<svg xmlns=\"http://www.w3.org/2000/svg\" height=\"24px\"viewBox=\"0 0 24 24\"\n",
              "     width=\"24px\">\n",
              "    <g>\n",
              "        <path d=\"M19 3H5c-1.1 0-2 .9-2 2v14c0 1.1.9 2 2 2h14c1.1 0 2-.9 2-2V5c0-1.1-.9-2-2-2zM9 17H7v-7h2v7zm4 0h-2V7h2v10zm4 0h-2v-4h2v4z\"/>\n",
              "    </g>\n",
              "</svg>\n",
              "      </button>\n",
              "\n",
              "<style>\n",
              "  .colab-df-quickchart {\n",
              "      --bg-color: #E8F0FE;\n",
              "      --fill-color: #1967D2;\n",
              "      --hover-bg-color: #E2EBFA;\n",
              "      --hover-fill-color: #174EA6;\n",
              "      --disabled-fill-color: #AAA;\n",
              "      --disabled-bg-color: #DDD;\n",
              "  }\n",
              "\n",
              "  [theme=dark] .colab-df-quickchart {\n",
              "      --bg-color: #3B4455;\n",
              "      --fill-color: #D2E3FC;\n",
              "      --hover-bg-color: #434B5C;\n",
              "      --hover-fill-color: #FFFFFF;\n",
              "      --disabled-bg-color: #3B4455;\n",
              "      --disabled-fill-color: #666;\n",
              "  }\n",
              "\n",
              "  .colab-df-quickchart {\n",
              "    background-color: var(--bg-color);\n",
              "    border: none;\n",
              "    border-radius: 50%;\n",
              "    cursor: pointer;\n",
              "    display: none;\n",
              "    fill: var(--fill-color);\n",
              "    height: 32px;\n",
              "    padding: 0;\n",
              "    width: 32px;\n",
              "  }\n",
              "\n",
              "  .colab-df-quickchart:hover {\n",
              "    background-color: var(--hover-bg-color);\n",
              "    box-shadow: 0 1px 2px rgba(60, 64, 67, 0.3), 0 1px 3px 1px rgba(60, 64, 67, 0.15);\n",
              "    fill: var(--button-hover-fill-color);\n",
              "  }\n",
              "\n",
              "  .colab-df-quickchart-complete:disabled,\n",
              "  .colab-df-quickchart-complete:disabled:hover {\n",
              "    background-color: var(--disabled-bg-color);\n",
              "    fill: var(--disabled-fill-color);\n",
              "    box-shadow: none;\n",
              "  }\n",
              "\n",
              "  .colab-df-spinner {\n",
              "    border: 2px solid var(--fill-color);\n",
              "    border-color: transparent;\n",
              "    border-bottom-color: var(--fill-color);\n",
              "    animation:\n",
              "      spin 1s steps(1) infinite;\n",
              "  }\n",
              "\n",
              "  @keyframes spin {\n",
              "    0% {\n",
              "      border-color: transparent;\n",
              "      border-bottom-color: var(--fill-color);\n",
              "      border-left-color: var(--fill-color);\n",
              "    }\n",
              "    20% {\n",
              "      border-color: transparent;\n",
              "      border-left-color: var(--fill-color);\n",
              "      border-top-color: var(--fill-color);\n",
              "    }\n",
              "    30% {\n",
              "      border-color: transparent;\n",
              "      border-left-color: var(--fill-color);\n",
              "      border-top-color: var(--fill-color);\n",
              "      border-right-color: var(--fill-color);\n",
              "    }\n",
              "    40% {\n",
              "      border-color: transparent;\n",
              "      border-right-color: var(--fill-color);\n",
              "      border-top-color: var(--fill-color);\n",
              "    }\n",
              "    60% {\n",
              "      border-color: transparent;\n",
              "      border-right-color: var(--fill-color);\n",
              "    }\n",
              "    80% {\n",
              "      border-color: transparent;\n",
              "      border-right-color: var(--fill-color);\n",
              "      border-bottom-color: var(--fill-color);\n",
              "    }\n",
              "    90% {\n",
              "      border-color: transparent;\n",
              "      border-bottom-color: var(--fill-color);\n",
              "    }\n",
              "  }\n",
              "</style>\n",
              "\n",
              "      <script>\n",
              "        async function quickchart(key) {\n",
              "          const quickchartButtonEl =\n",
              "            document.querySelector('#' + key + ' button');\n",
              "          quickchartButtonEl.disabled = true;  // To prevent multiple clicks.\n",
              "          quickchartButtonEl.classList.add('colab-df-spinner');\n",
              "          try {\n",
              "            const charts = await google.colab.kernel.invokeFunction(\n",
              "                'suggestCharts', [key], {});\n",
              "          } catch (error) {\n",
              "            console.error('Error during call to suggestCharts:', error);\n",
              "          }\n",
              "          quickchartButtonEl.classList.remove('colab-df-spinner');\n",
              "          quickchartButtonEl.classList.add('colab-df-quickchart-complete');\n",
              "        }\n",
              "        (() => {\n",
              "          let quickchartButtonEl =\n",
              "            document.querySelector('#df-90e53716-b416-44e2-803f-8306ae94af92 button');\n",
              "          quickchartButtonEl.style.display =\n",
              "            google.colab.kernel.accessAllowed ? 'block' : 'none';\n",
              "        })();\n",
              "      </script>\n",
              "    </div>\n",
              "\n",
              "    </div>\n",
              "  </div>\n"
            ],
            "application/vnd.google.colaboratory.intrinsic+json": {
              "type": "dataframe",
              "variable_name": "df",
              "summary": "{\n  \"name\": \"df\",\n  \"rows\": 20,\n  \"fields\": [\n    {\n      \"column\": \"T\\u00edtulo\",\n      \"properties\": {\n        \"dtype\": \"string\",\n        \"num_unique_values\": 19,\n        \"samples\": [\n          \"Unicorn Tracks\",\n          \"Avatar: The Last Airbender: Smoke and Shadow, Part 3 (Smoke and Shadow #3)\",\n          \"The Hidden Oracle (The Trials of Apollo #1)\"\n        ],\n        \"semantic_type\": \"\",\n        \"description\": \"\"\n      }\n    },\n    {\n      \"column\": \"Pre\\u00e7o\",\n      \"properties\": {\n        \"dtype\": \"string\",\n        \"num_unique_values\": 20,\n        \"samples\": [\n          \"\\u00c2\\u00a318.78\",\n          \"\\u00c2\\u00a332.30\",\n          \"\\u00c2\\u00a356.02\"\n        ],\n        \"semantic_type\": \"\",\n        \"description\": \"\"\n      }\n    },\n    {\n      \"column\": \"Categoria\",\n      \"properties\": {\n        \"dtype\": \"category\",\n        \"num_unique_values\": 1,\n        \"samples\": [\n          \"Fantasy\"\n        ],\n        \"semantic_type\": \"\",\n        \"description\": \"\"\n      }\n    },\n    {\n      \"column\": \"Disponibilidade\",\n      \"properties\": {\n        \"dtype\": \"category\",\n        \"num_unique_values\": 1,\n        \"samples\": [\n          \"In stock\"\n        ],\n        \"semantic_type\": \"\",\n        \"description\": \"\"\n      }\n    }\n  ]\n}"
            }
          },
          "metadata": {},
          "execution_count": 2
        }
      ]
    }
  ]
}